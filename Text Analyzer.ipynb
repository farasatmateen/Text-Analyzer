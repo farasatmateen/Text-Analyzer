{
  "nbformat": 4,
  "nbformat_minor": 0,
  "metadata": {
    "colab": {
      "provenance": [],
      "authorship_tag": "ABX9TyMKbdlar9M64pFIBk//BA6C",
      "include_colab_link": true
    },
    "kernelspec": {
      "name": "python3",
      "display_name": "Python 3"
    },
    "language_info": {
      "name": "python"
    }
  },
  "cells": [
    {
      "cell_type": "markdown",
      "metadata": {
        "id": "view-in-github",
        "colab_type": "text"
      },
      "source": [
        "<a href=\"https://colab.research.google.com/github/farasatmateen/Text-Analyzer/blob/main/Text%20Analyzer.ipynb\" target=\"_parent\"><img src=\"https://colab.research.google.com/assets/colab-badge.svg\" alt=\"Open In Colab\"/></a>"
      ]
    },
    {
      "cell_type": "code",
      "execution_count": 1,
      "metadata": {
        "colab": {
          "base_uri": "https://localhost:8080/"
        },
        "id": "ZSbp8aPkxzwT",
        "outputId": "db0b5546-9ec1-471f-8a60-73db406540e9"
      },
      "outputs": [
        {
          "output_type": "stream",
          "name": "stdout",
          "text": [
            "Enter your paragraph: hello you are you\n",
            "Enter the word to search: you\n",
            "Enter the word to replace with: I am\n",
            "\n",
            "--- Analysis Results ---\n",
            "Word Count: 4\n",
            "Character Count: 17\n",
            "Vowel Count: 8\n",
            "Uppercase: HELLO YOU ARE YOU\n",
            "Lowercase: hello you are you\n",
            "Modified Text: hello I am are I am\n"
          ]
        }
      ],
      "source": [
        "def text_analysis():\n",
        "    text = input(\"Enter your paragraph: \")\n",
        "\n",
        "    # Word and Character Count\n",
        "    word_count = len(text.split())\n",
        "    char_count = len(text)\n",
        "\n",
        "    # Vowel Count\n",
        "    vowels = \"aeiouAEIOU\"\n",
        "    vowel_count = sum(1 for char in text if char in vowels)\n",
        "\n",
        "    # Search and Replace\n",
        "    search_word = input(\"Enter the word to search: \")\n",
        "    replace_word = input(\"Enter the word to replace with: \")\n",
        "    modified_text = text.replace(search_word, replace_word)\n",
        "\n",
        "    # Uppercase and Lowercase Conversion\n",
        "    uppercase_text = text.upper()\n",
        "    lowercase_text = text.lower()\n",
        "\n",
        "    print(\"\\n--- Analysis Results ---\")\n",
        "    print(f\"Word Count: {word_count}\")\n",
        "    print(f\"Character Count: {char_count}\")\n",
        "    print(f\"Vowel Count: {vowel_count}\")\n",
        "    print(f\"Uppercase: {uppercase_text}\")\n",
        "    print(f\"Lowercase: {lowercase_text}\")\n",
        "    print(f\"Modified Text: {modified_text}\")\n",
        "\n",
        "# Run the function\n",
        "text_analysis()"
      ]
    }
  ]
}